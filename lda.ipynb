{
 "cells": [
  {
   "cell_type": "markdown",
   "metadata": {},
   "source": [
    "# Distributed LDA with gensim\n",
    "\n",
    "This is a work in progress attempt to distribute gensim's LDA. Gensim supports this using the [Python Remote Objects](https://pyro4.readthedocs.io/en/stable/) library."
   ]
  },
  {
   "cell_type": "markdown",
   "metadata": {},
   "source": [
    "Install dependencies."
   ]
  },
  {
   "cell_type": "code",
   "execution_count": 1,
   "metadata": {},
   "outputs": [
    {
     "name": "stdout",
     "output_type": "stream",
     "text": [
      "Requirement already satisfied: gensim[distributed] in ./.local/lib/python3.6/site-packages (4.0.1)\n",
      "Requirement already satisfied: numpy>=1.11.3 in /usr/local/lib/python3.6/site-packages (from gensim[distributed]) (1.17.2)\n",
      "Requirement already satisfied: scipy>=0.18.1 in /usr/local/lib/python3.6/site-packages (from gensim[distributed]) (1.5.2)\n",
      "Requirement already satisfied: dataclasses; python_version < \"3.7\" in ./.local/lib/python3.6/site-packages (from gensim[distributed]) (0.8)\n",
      "Requirement already satisfied: smart-open>=1.8.1 in ./.local/lib/python3.6/site-packages (from gensim[distributed]) (5.1.0)\n",
      "Requirement already satisfied: Pyro4>=4.27; extra == \"distributed\" in ./.local/lib/python3.6/site-packages (from gensim[distributed]) (4.80)\n",
      "Requirement already satisfied: serpent>=1.27; python_version >= \"3.2\" in ./.local/lib/python3.6/site-packages (from Pyro4>=4.27; extra == \"distributed\"->gensim[distributed]) (1.40)\n",
      "\u001b[33mWARNING: You are using pip version 20.1.1; however, version 21.1.3 is available.\n",
      "You should consider upgrading via the '/usr/local/bin/python3.6 -m pip install --upgrade pip' command.\u001b[0m\n"
     ]
    }
   ],
   "source": [
    "!pip3 install gensim[distributed]"
   ]
  },
  {
   "cell_type": "code",
   "execution_count": 2,
   "metadata": {},
   "outputs": [
    {
     "name": "stderr",
     "output_type": "stream",
     "text": [
      "/home/cdsw/.local/lib/python3.6/site-packages/gensim/similarities/__init__.py:15: UserWarning: The gensim.similarities.levenshtein submodule is disabled, because the optional Levenshtein package <https://pypi.org/project/python-Levenshtein/> is unavailable. Install Levenhstein (e.g. `pip install python-Levenshtein`) to suppress this warning.\n",
      "  warnings.warn(msg)\n"
     ]
    }
   ],
   "source": [
    "import os\n",
    "import time\n",
    "from collections import defaultdict\n",
    "\n",
    "import cdsw\n",
    "from gensim import corpora, models"
   ]
  },
  {
   "cell_type": "markdown",
   "metadata": {},
   "source": [
    "Launch a Pyro name server and fetch the IP address."
   ]
  },
  {
   "cell_type": "code",
   "execution_count": 3,
   "metadata": {},
   "outputs": [],
   "source": [
    "name_server = cdsw.launch_workers(\n",
    "  n=1,\n",
    "  cpu=1,\n",
    "  memory=2,\n",
    "  kernel=\"python3\",\n",
    "  code=f\"!export PYRO_SERIALIZERS_ACCEPTED=pickle; export PYRO_SERIALIZER=pickle; python3 -m Pyro4.naming -n 0.0.0.0; while true; do sleep 10; done\"\n",
    ")"
   ]
  },
  {
   "cell_type": "markdown",
   "metadata": {},
   "source": [
    "It takes a few seconds to establish an IP, so we pause before we fetch it."
   ]
  },
  {
   "cell_type": "code",
   "execution_count": 4,
   "metadata": {},
   "outputs": [],
   "source": [
    "time.sleep(10)"
   ]
  },
  {
   "cell_type": "markdown",
   "metadata": {},
   "source": [
    "Fetch the IP address of the name server."
   ]
  },
  {
   "cell_type": "code",
   "execution_count": 5,
   "metadata": {},
   "outputs": [],
   "source": [
    "name_server_ip = [\n",
    "    worker[\"ip_address\"] for worker in cdsw.list_workers()\n",
    "    if worker[\"id\"] == name_server[0][\"id\"]\n",
    "][0]"
   ]
  },
  {
   "cell_type": "markdown",
   "metadata": {},
   "source": [
    "The IP should not be 'unknown' (if it is, re-run the above cell to fetch again)."
   ]
  },
  {
   "cell_type": "code",
   "execution_count": 6,
   "metadata": {},
   "outputs": [
    {
     "data": {
      "text/plain": [
       "'100.100.149.250'"
      ]
     },
     "execution_count": 6,
     "metadata": {},
     "output_type": "execute_result"
    }
   ],
   "source": [
    "name_server_ip"
   ]
  },
  {
   "cell_type": "markdown",
   "metadata": {},
   "source": [
    "Launch some CDSW workers, with one gensim lda_worker on each node."
   ]
  },
  {
   "cell_type": "code",
   "execution_count": 7,
   "metadata": {},
   "outputs": [],
   "source": [
    "workers = cdsw.launch_workers(\n",
    "  n=3,\n",
    "  cpu=1,\n",
    "  memory=2,\n",
    "  kernel=\"python3\",\n",
    "  code=f\"!export PYRO_SERIALIZERS_ACCEPTED=pickle; export PYRO_SERIALIZER=pickle; python3 -m gensim.models.lda_worker --host {name_server_ip} --verbose\"\n",
    ")"
   ]
  },
  {
   "cell_type": "markdown",
   "metadata": {},
   "source": [
    "Launch a final CDSW worker to host the gensim dispatcher."
   ]
  },
  {
   "cell_type": "code",
   "execution_count": 8,
   "metadata": {},
   "outputs": [],
   "source": [
    "dispatcher = cdsw.launch_workers(\n",
    "  n=1,\n",
    "  cpu=1,\n",
    "  memory=2,\n",
    "  kernel=\"python3\",\n",
    "  code=f\"!export PYRO_SERIALIZERS_ACCEPTED=pickle; export PYRO_SERIALIZER=pickle; python3 -m gensim.models.lda_dispatcher --host {name_server_ip}; while true; do sleep 10; done\"\n",
    ")"
   ]
  },
  {
   "cell_type": "markdown",
   "metadata": {},
   "source": [
    "This is all we need."
   ]
  },
  {
   "cell_type": "code",
   "execution_count": 9,
   "metadata": {},
   "outputs": [
    {
     "data": {
      "text/plain": [
       "5"
      ]
     },
     "execution_count": 9,
     "metadata": {},
     "output_type": "execute_result"
    }
   ],
   "source": [
    "len(cdsw.list_workers())"
   ]
  },
  {
   "cell_type": "markdown",
   "metadata": {},
   "source": [
    "This is a minimum example of LDA, hacked together from the gensim tutorials. It gives the LDA algorithm something (very simple) to do. We would not distribute LDA for such a tiny dataset."
   ]
  },
  {
   "cell_type": "code",
   "execution_count": 10,
   "metadata": {},
   "outputs": [],
   "source": [
    "# from the gensim tutorials:\n",
    "\n",
    "documents = [\n",
    "    \"Human machine interface for lab abc computer applications\",\n",
    "    \"A survey of user opinion of computer system response time\",\n",
    "    \"The EPS user interface management system\",\n",
    "    \"System and human system engineering testing of EPS\",\n",
    "    \"Relation of user perceived response time to error measurement\",\n",
    "    \"The generation of random binary unordered trees\",\n",
    "    \"The intersection graph of paths in trees\",\n",
    "    \"Graph minors IV Widths of trees and well quasi ordering\",\n",
    "    \"Graph minors A survey\",\n",
    "]\n",
    "\n",
    "# remove common words and tokenize\n",
    "stoplist = set('for a of the and to in'.split())\n",
    "texts = [\n",
    "    [word for word in document.lower().split() if word not in stoplist]\n",
    "    for document in documents\n",
    "]\n",
    "\n",
    "# remove words that appear only once\n",
    "frequency = defaultdict(int)\n",
    "for text in texts:\n",
    "    for token in text:\n",
    "        frequency[token] += 1\n",
    "\n",
    "texts = [\n",
    "    [token for token in text if frequency[token] > 1]\n",
    "    for text in texts\n",
    "]\n",
    "\n",
    "id2word = corpora.Dictionary(texts)\n",
    "corpus = [id2word.doc2bow(text) for text in texts]"
   ]
  },
  {
   "cell_type": "markdown",
   "metadata": {},
   "source": [
    "Setting the same environment variables on this host because I've tried making it an `lda_worker` in the terminal, which changes nothing. Making this node the `Pyro4.naming` name server gives a serialization error."
   ]
  },
  {
   "cell_type": "code",
   "execution_count": 11,
   "metadata": {},
   "outputs": [],
   "source": [
    "os.environ[\"PYRO_HOST\"] = name_server_ip\n",
    "os.environ[\"PYRO_SERIALIZERS_ACCEPTED\"] = \"pickle\"\n",
    "os.environ[\"PYRO_SERIALIZER\"] = \"pickle\""
   ]
  },
  {
   "cell_type": "markdown",
   "metadata": {},
   "source": [
    "Fit an LDA model. This will be almost instantaneous, because the task is so small. If the next cell errors, it is likely because the worker nodes are still scheduled. Await them scheduling (you can view the status of workers in the CDSW Sessions pane), then try running the cell again."
   ]
  },
  {
   "cell_type": "code",
   "execution_count": 12,
   "metadata": {},
   "outputs": [],
   "source": [
    "lda = models.LdaModel(\n",
    "    corpus=corpus,\n",
    "    id2word=id2word,\n",
    "    num_topics=3,\n",
    "    distributed=True,\n",
    "    ns_conf={'host': name_server_ip}\n",
    ")"
   ]
  },
  {
   "cell_type": "markdown",
   "metadata": {},
   "source": [
    "Check that the model actually did something by viewing the top topics. It's a tiny corpus, don't expect these to make sense."
   ]
  },
  {
   "cell_type": "code",
   "execution_count": 13,
   "metadata": {},
   "outputs": [
    {
     "data": {
      "text/plain": [
       "[([(0.20227258, 'system'),\n",
       "   (0.10964208, 'user'),\n",
       "   (0.10845309, 'computer'),\n",
       "   (0.10782733, 'eps'),\n",
       "   (0.107211985, 'interface'),\n",
       "   (0.106523745, 'human'),\n",
       "   (0.06484261, 'response'),\n",
       "   (0.0647507, 'survey'),\n",
       "   (0.06440762, 'time'),\n",
       "   (0.023797294, 'trees'),\n",
       "   (0.020941954, 'graph'),\n",
       "   (0.019329047, 'minors')],\n",
       "  -14.640053358132091),\n",
       " ([(0.16038772, 'user'),\n",
       "   (0.15631276, 'time'),\n",
       "   (0.1553815, 'response'),\n",
       "   (0.14309631, 'trees'),\n",
       "   (0.05046085, 'graph'),\n",
       "   (0.050012518, 'human'),\n",
       "   (0.049263958, 'system'),\n",
       "   (0.04765852, 'minors'),\n",
       "   (0.047450796, 'interface'),\n",
       "   (0.046915285, 'eps'),\n",
       "   (0.046590485, 'survey'),\n",
       "   (0.046469327, 'computer')],\n",
       "  -14.683057233234472),\n",
       " ([(0.26073998, 'graph'),\n",
       "   (0.19288148, 'trees'),\n",
       "   (0.1826831, 'minors'),\n",
       "   (0.10565308, 'survey'),\n",
       "   (0.034172226, 'user'),\n",
       "   (0.03386162, 'system'),\n",
       "   (0.032380056, 'interface'),\n",
       "   (0.03181678, 'human'),\n",
       "   (0.031690598, 'eps'),\n",
       "   (0.031655017, 'time'),\n",
       "   (0.031543408, 'response'),\n",
       "   (0.030922605, 'computer')],\n",
       "  -14.701487465421208)]"
      ]
     },
     "execution_count": 13,
     "metadata": {},
     "output_type": "execute_result"
    }
   ],
   "source": [
    "lda.top_topics(corpus)"
   ]
  },
  {
   "cell_type": "markdown",
   "metadata": {},
   "source": [
    "Clean up after ourselves."
   ]
  },
  {
   "cell_type": "code",
   "execution_count": 14,
   "metadata": {},
   "outputs": [
    {
     "data": {
      "text/plain": [
       "[<Response [204]>,\n",
       " <Response [204]>,\n",
       " <Response [204]>,\n",
       " <Response [204]>,\n",
       " <Response [204]>]"
      ]
     },
     "execution_count": 14,
     "metadata": {},
     "output_type": "execute_result"
    }
   ],
   "source": [
    "cdsw.stop_workers(*[worker[\"id\"] for worker in name_server + dispatcher + workers])"
   ]
  },
  {
   "cell_type": "code",
   "execution_count": null,
   "metadata": {},
   "outputs": [],
   "source": []
  }
 ],
 "metadata": {
  "kernelspec": {
   "display_name": "Python 3",
   "language": "python",
   "name": "python3"
  },
  "language_info": {
   "codemirror_mode": {
    "name": "ipython",
    "version": 3
   },
   "file_extension": ".py",
   "mimetype": "text/x-python",
   "name": "python",
   "nbconvert_exporter": "python",
   "pygments_lexer": "ipython3",
   "version": "3.6.10"
  }
 },
 "nbformat": 4,
 "nbformat_minor": 5
}
